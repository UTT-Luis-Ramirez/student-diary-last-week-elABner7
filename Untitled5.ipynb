{
  "nbformat": 4,
  "nbformat_minor": 0,
  "metadata": {
    "colab": {
      "provenance": []
    },
    "kernelspec": {
      "name": "python3",
      "display_name": "Python 3"
    },
    "language_info": {
      "name": "python"
    }
  },
  "cells": [
    {
      "cell_type": "markdown",
      "source": [
        "# Medidas de tendencia central\n",
        "\n",
        "---\n"
      ],
      "metadata": {
        "id": "xr6wRWa1rTVy"
      }
    },
    {
      "cell_type": "markdown",
      "source": [
        "\n",
        "Media aritmetica (Promedio)\n",
        "---\n",
        "\n",
        "La media aritmética es el promedio de un grupo de números. Se obtiene sumando todos los valores y dividiéndolos por la cantidad de números.\n",
        "\n",
        "Su valor puede ser afectado con un solo vcalor que este muy al extremo."
      ],
      "metadata": {
        "id": "48va6kAZuVQx"
      }
    },
    {
      "cell_type": "markdown",
      "source": [
        "![dsfhjdsdsf.jpg](data:image/jpeg;base64,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)"
      ],
      "metadata": {
        "id": "56_dULnYrzdW"
      }
    },
    {
      "cell_type": "code",
      "source": [
        "import pandas as pd\n",
        "data = pd.read_csv('SoftwareProject_DataSet.csv')\n",
        "\n",
        "sample = data.sample(n=150, random_state=7)\n",
        "\n",
        "\n",
        "number_bugs = sample[\"Número de bugs\"]\n",
        "\n",
        "\n",
        "def mean_calculator(data_list):\n",
        "    sum_of_values = sum(data_list)\n",
        "    sample_size = len(data_list)\n",
        "    mean = sum_of_values / sample_size\n",
        "    return mean\n",
        "\n",
        "bugs_mean = mean_calculator(number_bugs)\n",
        "\n",
        "print(\"La media de bugs es:\", bugs_mean)"
      ],
      "metadata": {
        "colab": {
          "base_uri": "https://localhost:8080/"
        },
        "id": "8KvqEX3NvgCA",
        "outputId": "f8ee8258-f4d7-476a-f61e-8fca5bf2599d"
      },
      "execution_count": 13,
      "outputs": [
        {
          "output_type": "stream",
          "name": "stdout",
          "text": [
            "La media de bugs es: 23.673333333333332\n"
          ]
        }
      ]
    },
    {
      "cell_type": "markdown",
      "source": [
        "La Mediana\n",
        "---\n",
        "\n",
        "La mediana es el número que está en el centro de un conjunto de datos ordenados.\n",
        "\n",
        "Se obtiene ordenando los datos de menor a mayor y eligiendo el de enmedio.\n",
        "\n",
        "Mediana impar\n",
        "\n",
        "![image.png](data:image/png;base64,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)\n",
        "\n",
        "Mediana par:\n",
        "\n",
        "![image.png](data:image/png;base64,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)"
      ],
      "metadata": {
        "id": "zKDabjy2sFA9"
      }
    },
    {
      "cell_type": "code",
      "source": [
        "def median_calculator(data_list):\n",
        "    sorted_list = sorted(data_list)\n",
        "    sample_size = len(data_list)\n",
        "    halfed_sample_size = sample_size // 2\n",
        "\n",
        "    if sample_size % 2 == 0:\n",
        "        return (sorted_list[halfed_sample_size-1] + sorted_list[halfed_sample_size]) / 2\n",
        "    else:\n",
        "        return sorted_list[halfed_sample_size]\n",
        "\n",
        "bugs_median = median_calculator(number_bugs)\n",
        "\n",
        "print(f\"Mediana manual: {bugs_median} vs Pandas: {number_bugs.median()}\")"
      ],
      "metadata": {
        "colab": {
          "base_uri": "https://localhost:8080/"
        },
        "id": "26QqfUwzxAPA",
        "outputId": "3d10a22e-7906-4e6b-ef6f-26739223ca26"
      },
      "execution_count": 14,
      "outputs": [
        {
          "output_type": "stream",
          "name": "stdout",
          "text": [
            "Mediana manual: 23.0 vs Pandas: 23.0\n"
          ]
        }
      ]
    },
    {
      "cell_type": "markdown",
      "source": [
        " La Media Recortada\n",
        " ---\n",
        "\n",
        " Una Muestra Recortada es un termino medio entre la mediana y media aritmetica 10% recortada.\n",
        "\n",
        " Una media recortada con un porcentaje de recorte moderado, algo entre 5 y 25%, producira una medida del centro que no es ni tan sensible a los valores apartados como la media ni tan insensible como la mediana."
      ],
      "metadata": {
        "id": "3BipMJr7tc5S"
      }
    },
    {
      "cell_type": "code",
      "source": [
        "def sample_cutter(sample, cut_percentage):\n",
        "    sorted_sample = sorted(sample)\n",
        "    sample_leng = len(sample)\n",
        "    index_cut = (cut_percentage / 100) * sample_leng\n",
        "\n",
        "    elements_to_cut = int(index_cut) if index_cut.is_integer() else int(index_cut) + 1\n",
        "\n",
        "    sample_cut = sorted_sample[elements_to_cut : sample_leng - elements_to_cut]\n",
        "\n",
        "    print(\"tamaño de la muestra: \", len(sample_cut))\n",
        "\n",
        "    return sample_cut\n",
        "\n",
        "\n",
        "cutted_mean = mean_calculator(sample_cutter(number_bugs, 10))\n",
        "\n",
        "print(\"media recortada: \", cutted_mean)"
      ],
      "metadata": {
        "colab": {
          "base_uri": "https://localhost:8080/"
        },
        "id": "bhIS4beDxnrQ",
        "outputId": "56852f62-c362-42ff-d174-ca403f7644fa"
      },
      "execution_count": 16,
      "outputs": [
        {
          "output_type": "stream",
          "name": "stdout",
          "text": [
            "tamaño de la muestra:  120\n",
            "media recortada:  23.308333333333334\n"
          ]
        }
      ]
    },
    {
      "cell_type": "markdown",
      "source": [
        "Cuartiles\n",
        "---\n",
        "\n",
        "Los cuartiles son los valores que dividen un conjunto de datos en cuatro partes iguales. Son una herramienta que tiene la estadistica para evaluar la tendencia central, la dispersión y la variabilidad de las observaciones\n",
        "\n",
        "![image.png](data:image/png;base64,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)"
      ],
      "metadata": {
        "id": "AnIselv0yBgr"
      }
    },
    {
      "cell_type": "markdown",
      "source": [
        "Percentiles\n",
        "---\n",
        "\n",
        "Estos son valores que dividen un conjunto de datos en partes iguales y que indican el porcentaje de datos que son menores o igual a ellos.\n",
        "\n",
        "Los percentiles son una medida de posicion que se utiliza para coprar y contextualizar datos.\n",
        "\n",
        "Ordenar datos de mayor a menor y luego usar esta formula:\n",
        "\n",
        "![image.png](data:image/png;base64,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)"
      ],
      "metadata": {
        "id": "XqHvINejyNYw"
      }
    }
  ]
}